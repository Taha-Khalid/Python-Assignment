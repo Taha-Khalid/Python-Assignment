{
 "cells": [
  {
   "cell_type": "code",
   "execution_count": 1,
   "metadata": {},
   "outputs": [
    {
     "name": "stdout",
     "output_type": "stream",
     "text": [
      "Twinkle, twinkle, little star,\n",
      "   How I wonder what you are!\n",
      "      Up above the world so high,\n",
      "      Like a diamond in the sky.\n",
      "Twinkle, twinkle, little star,\n",
      "   How I wonder what you are!\n",
      "      \n"
     ]
    }
   ],
   "source": [
    "x=\"Twinkle, twinkle, little star,\\n   \"\n",
    "y=\"How I wonder what you are!\\n      \"\n",
    "print(x+y+\"Up above the world so high,\\n      Like a diamond in the sky.\\n\"+x+y)"
   ]
  },
  {
   "cell_type": "code",
   "execution_count": 2,
   "metadata": {},
   "outputs": [
    {
     "name": "stdout",
     "output_type": "stream",
     "text": [
      "The current version of python is 3.7.4 (default, Aug  9 2019, 18:34:13) [MSC v.1915 64 bit (AMD64)]\n"
     ]
    }
   ],
   "source": [
    "import sys\n",
    "print(\"The current version of python is \"+sys.version)\n"
   ]
  },
  {
   "cell_type": "code",
   "execution_count": 3,
   "metadata": {},
   "outputs": [
    {
     "name": "stdout",
     "output_type": "stream",
     "text": [
      "date and time = 05/11/2019 19:03:00\n"
     ]
    }
   ],
   "source": [
    "from datetime import datetime\n",
    "at_present = datetime.now()\n",
    "dt_string = at_present.strftime(\"%d/%m/%Y %H:%M:%S\")\n",
    "print(\"date and time =\", dt_string)\n"
   ]
  },
  {
   "cell_type": "code",
   "execution_count": 4,
   "metadata": {},
   "outputs": [
    {
     "name": "stdout",
     "output_type": "stream",
     "text": [
      "Enter the radius of circle:4\n",
      "The area of Circle is:50.24\n"
     ]
    }
   ],
   "source": [
    "r = float(input(\"Enter the radius of circle:\"))\n",
    "Area=3.14*(r*r)\n",
    "area=str(Area)\n",
    "print(\"The area of Circle is:\" + area)\n"
   ]
  },
  {
   "cell_type": "code",
   "execution_count": 5,
   "metadata": {},
   "outputs": [
    {
     "name": "stdout",
     "output_type": "stream",
     "text": [
      "Enter your Fisrt Name:Taha\n",
      "Enter your Last Name:Khalid\n",
      "Khalid Taha\n"
     ]
    }
   ],
   "source": [
    "f_name=input(\"Enter your Fisrt Name:\")\n",
    "l_name=input(\"Enter your Last Name:\")\n",
    "s=\" \"\n",
    "print(l_name+s+f_name)\n"
   ]
  },
  {
   "cell_type": "code",
   "execution_count": 6,
   "metadata": {},
   "outputs": [
    {
     "name": "stdout",
     "output_type": "stream",
     "text": [
      "Enter a number:5\n",
      "Enter one more number:3\n",
      "The sum of the entered number is:8.0\n"
     ]
    }
   ],
   "source": [
    "N_1=float(input(\"Enter a number:\"))\n",
    "N_2=float(input(\"Enter one more number:\"))\n",
    "s=str(N_1+N_2)\n",
    "print(\"The sum of the entered number is:\"+ s)\n"
   ]
  },
  {
   "cell_type": "code",
   "execution_count": null,
   "metadata": {},
   "outputs": [],
   "source": []
  }
 ],
 "metadata": {
  "kernelspec": {
   "display_name": "Python 3",
   "language": "python",
   "name": "python3"
  },
  "language_info": {
   "codemirror_mode": {
    "name": "ipython",
    "version": 3
   },
   "file_extension": ".py",
   "mimetype": "text/x-python",
   "name": "python",
   "nbconvert_exporter": "python",
   "pygments_lexer": "ipython3",
   "version": "3.7.4"
  }
 },
 "nbformat": 4,
 "nbformat_minor": 2
}
